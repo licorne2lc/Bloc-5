version https://git-lfs.github.com/spec/v1
oid sha256:958d00920ce517998ec5c50ebee05f80214e86c201b54412ea6589c98435e66c
size 53172
